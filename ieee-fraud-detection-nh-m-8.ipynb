{
 "cells": [
  {
   "cell_type": "markdown",
   "metadata": {},
   "source": [
    "# Phát hiện giao dịch giả mạo\n",
    "\n",
    "* Notebook này được làm dựa trên [notebook gốc](https://www.kaggle.com/cdeotte/xgb-fraud-with-magic-0-9600) của [Chris Deotte](https://www.kaggle.com/cdeotte)\n",
    "* Các đặc trưng được sử dụng đã được sàng lọc và phân tích (chi tiết xem trong bài báo cáo)\n",
    "* Notebook sử dụng tập dữ liệu đã biết để huấn luyện mô hình phân lớp XGBoost"
   ]
  },
  {
   "cell_type": "markdown",
   "metadata": {},
   "source": [
    "# Đọc dữ liệu đầu vào"
   ]
  },
  {
   "cell_type": "markdown",
   "metadata": {},
   "source": [
    "### Định nghĩa sẵn tập các cột V, ID được sử dụng\n",
    "Tất cả các trường từ bộ dữ liệu của bài toán được đọc ngoại trừ 219 cột V bị loại bỏ do thừa dữ liệu (bằng kỹ thuật phân tích độ tương quan, chi tiết xem trong bài báo cáo)"
   ]
  },
  {
   "cell_type": "code",
   "execution_count": 1,
   "metadata": {
    "_kg_hide-input": true,
    "execution": {
     "iopub.execute_input": "2021-05-22T21:38:43.377647Z",
     "iopub.status.busy": "2021-05-22T21:38:43.377358Z",
     "iopub.status.idle": "2021-05-22T21:38:44.755463Z",
     "shell.execute_reply": "2021-05-22T21:38:44.754586Z",
     "shell.execute_reply.started": "2021-05-22T21:38:43.377605Z"
    }
   },
   "outputs": [],
   "source": [
    "import numpy as np, pandas as pd, os, gc\n",
    "from sklearn.model_selection import GroupKFold\n",
    "from sklearn.metrics import roc_auc_score\n",
    "import matplotlib.pyplot as plt\n",
    "import seaborn as sns\n",
    "\n",
    "# Tập các cột có dữ liệu là xâu ký tự\n",
    "str_type = ['ProductCD', 'card4', 'card6', 'P_emaildomain', 'R_emaildomain','M1', 'M2', 'M3', 'M4','M5',\n",
    "            'M6', 'M7', 'M8', 'M9', 'id_12', 'id_15', 'id_16', 'id_23', 'id_27', 'id_28', 'id_29', 'id_30', \n",
    "            'id_31', 'id_33', 'id_34', 'id_35', 'id_36', 'id_37', 'id_38', 'DeviceType', 'DeviceInfo']\n",
    "str_type += ['id-12', 'id-15', 'id-16', 'id-23', 'id-27', 'id-28', 'id-29', 'id-30', \n",
    "            'id-31', 'id-33', 'id-34', 'id-35', 'id-36', 'id-37', 'id-38']\n",
    "\n",
    "# 53 cột đầu tiên\n",
    "cols = ['TransactionID', 'TransactionDT', 'TransactionAmt',\n",
    "       'ProductCD', 'card1', 'card2', 'card3', 'card4', 'card5', 'card6',\n",
    "       'addr1', 'addr2', 'dist1', 'dist2', 'P_emaildomain', 'R_emaildomain',\n",
    "       'C1', 'C2', 'C3', 'C4', 'C5', 'C6', 'C7', 'C8', 'C9', 'C10', 'C11',\n",
    "       'C12', 'C13', 'C14', 'D1', 'D2', 'D3', 'D4', 'D5', 'D6', 'D7', 'D8',\n",
    "       'D9', 'D10', 'D11', 'D12', 'D13', 'D14', 'D15', 'M1', 'M2', 'M3', 'M4',\n",
    "       'M5', 'M6', 'M7', 'M8', 'M9']\n",
    "\n",
    "# Các cột V được sử dụng (đã loại bỏ các cột không cần thiết)\n",
    "v =  [1, 3, 4, 6, 8, 11]\n",
    "v += [13, 14, 17, 20, 23, 26, 27, 30]\n",
    "v += [36, 37, 40, 41, 44, 47, 48]\n",
    "v += [54, 56, 59, 62, 65, 67, 68, 70]\n",
    "v += [76, 78, 80, 82, 86, 88, 89, 91]\n",
    "\n",
    "# v += [96, 98, 99, 104] \n",
    "v += [107, 108, 111, 115, 117, 120, 121, 123] \n",
    "v += [124, 127, 129, 130, 136] \n",
    "\n",
    "v += [138, 139, 142, 147, 156, 162]\n",
    "v += [165, 160, 166] \n",
    "v += [178, 176, 173, 182]\n",
    "v += [187, 203, 205, 207, 215] \n",
    "v += [169, 171, 175, 180, 185, 188, 198, 210, 209] \n",
    "v += [218, 223, 224, 226, 228, 229, 235] \n",
    "v += [240, 258, 257, 253, 252, 260, 261] \n",
    "v += [264, 266, 267, 274, 277] \n",
    "v += [220, 221, 234, 238, 250, 271] \n",
    "\n",
    "v += [294, 284, 285, 286, 291, 297]\n",
    "v += [303, 305, 307, 309, 310, 320] \n",
    "v += [281, 283, 289, 296, 301, 314] \n",
    "#v += [332, 325, 335, 338]\n",
    "\n",
    "cols += ['V'+str(x) for x in v]\n",
    "dtypes = {}\n",
    "\n",
    "\n",
    "# Nạp hết các cột ID\n",
    "for c in cols+['id_0'+str(x) for x in range(1,10)]+['id_'+str(x) for x in range(10,34)]+\\\n",
    "    ['id-0'+str(x) for x in range(1,10)]+['id-'+str(x) for x in range(10,34)]:\n",
    "        dtypes[c] = 'float32'\n",
    "for c in str_type: dtypes[c] = 'category'"
   ]
  },
  {
   "cell_type": "markdown",
   "metadata": {},
   "source": [
    "### Đọc dữ liệu từ tập tin"
   ]
  },
  {
   "cell_type": "code",
   "execution_count": 2,
   "metadata": {
    "execution": {
     "iopub.execute_input": "2021-05-22T21:38:44.760073Z",
     "iopub.status.busy": "2021-05-22T21:38:44.759774Z",
     "iopub.status.idle": "2021-05-22T21:39:24.519945Z",
     "shell.execute_reply": "2021-05-22T21:39:24.519052Z",
     "shell.execute_reply.started": "2021-05-22T21:38:44.760009Z"
    }
   },
   "outputs": [
    {
     "name": "stdout",
     "output_type": "stream",
     "text": [
      "Kích thước tập huấn luyện (590540, 213) \n",
      " Kích thước tập test (506691, 213)\n",
      "CPU times: user 31.8 s, sys: 2.11 s, total: 33.9 s\n",
      "Wall time: 44.7 s\n"
     ]
    }
   ],
   "source": [
    "%%time\n",
    "#  Dữ luyện huấn luyện\n",
    "X_train = pd.read_csv('../input/ieee-fraud-detection/train_transaction.csv',index_col='TransactionID', dtype=dtypes, usecols=cols+['isFraud'])\n",
    "train_id = pd.read_csv('../input/ieee-fraud-detection/train_identity.csv',index_col='TransactionID', dtype=dtypes)\n",
    "X_train = X_train.merge(train_id, how='left', left_index=True, right_index=True)\n",
    "\n",
    "# Dữ liệu test\n",
    "X_test = pd.read_csv('../input/ieee-fraud-detection/test_transaction.csv',index_col='TransactionID', dtype=dtypes, usecols=cols)\n",
    "test_id = pd.read_csv('../input/ieee-fraud-detection/test_identity.csv',index_col='TransactionID', dtype=dtypes)\n",
    "fix = {o:n for o, n in zip(test_id.columns, train_id.columns)}\n",
    "test_id.rename(columns=fix, inplace=True)\n",
    "X_test = X_test.merge(test_id, how='left', left_index=True, right_index=True)\n",
    "\n",
    "# Tập nhãn y\n",
    "y_train = X_train['isFraud'].copy()\n",
    "del train_id, test_id, X_train['isFraud']; x = gc.collect()\n",
    "\n",
    "#  Kích thước tập huấn luyện và tập test\n",
    "print('Kích thước tập huấn luyện',X_train.shape,'\\n Kích thước tập test',X_test.shape)"
   ]
  },
  {
   "cell_type": "markdown",
   "metadata": {},
   "source": [
    "### Kiểm tra tên tất cả các cột đã được đọc"
   ]
  },
  {
   "cell_type": "code",
   "execution_count": 3,
   "metadata": {
    "_kg_hide-input": false,
    "_kg_hide-output": true,
    "execution": {
     "iopub.execute_input": "2021-05-22T21:39:24.521647Z",
     "iopub.status.busy": "2021-05-22T21:39:24.521422Z",
     "iopub.status.idle": "2021-05-22T21:39:24.529168Z",
     "shell.execute_reply": "2021-05-22T21:39:24.528240Z",
     "shell.execute_reply.started": "2021-05-22T21:39:24.521607Z"
    },
    "scrolled": true
   },
   "outputs": [
    {
     "data": {
      "text/plain": [
       "array(['TransactionDT', 'TransactionAmt', 'ProductCD', 'card1', 'card2',\n",
       "       'card3', 'card4', 'card5', 'card6', 'addr1', 'addr2', 'dist1',\n",
       "       'dist2', 'P_emaildomain', 'R_emaildomain', 'C1', 'C2', 'C3', 'C4',\n",
       "       'C5', 'C6', 'C7', 'C8', 'C9', 'C10', 'C11', 'C12', 'C13', 'C14',\n",
       "       'D1', 'D2', 'D3', 'D4', 'D5', 'D6', 'D7', 'D8', 'D9', 'D10', 'D11',\n",
       "       'D12', 'D13', 'D14', 'D15', 'M1', 'M2', 'M3', 'M4', 'M5', 'M6',\n",
       "       'M7', 'M8', 'M9', 'V1', 'V3', 'V4', 'V6', 'V8', 'V11', 'V13',\n",
       "       'V14', 'V17', 'V20', 'V23', 'V26', 'V27', 'V30', 'V36', 'V37',\n",
       "       'V40', 'V41', 'V44', 'V47', 'V48', 'V54', 'V56', 'V59', 'V62',\n",
       "       'V65', 'V67', 'V68', 'V70', 'V76', 'V78', 'V80', 'V82', 'V86',\n",
       "       'V88', 'V89', 'V91', 'V107', 'V108', 'V111', 'V115', 'V117',\n",
       "       'V120', 'V121', 'V123', 'V124', 'V127', 'V129', 'V130', 'V136',\n",
       "       'V138', 'V139', 'V142', 'V147', 'V156', 'V160', 'V162', 'V165',\n",
       "       'V166', 'V169', 'V171', 'V173', 'V175', 'V176', 'V178', 'V180',\n",
       "       'V182', 'V185', 'V187', 'V188', 'V198', 'V203', 'V205', 'V207',\n",
       "       'V209', 'V210', 'V215', 'V218', 'V220', 'V221', 'V223', 'V224',\n",
       "       'V226', 'V228', 'V229', 'V234', 'V235', 'V238', 'V240', 'V250',\n",
       "       'V252', 'V253', 'V257', 'V258', 'V260', 'V261', 'V264', 'V266',\n",
       "       'V267', 'V271', 'V274', 'V277', 'V281', 'V283', 'V284', 'V285',\n",
       "       'V286', 'V289', 'V291', 'V294', 'V296', 'V297', 'V301', 'V303',\n",
       "       'V305', 'V307', 'V309', 'V310', 'V314', 'V320', 'id_01', 'id_02',\n",
       "       'id_03', 'id_04', 'id_05', 'id_06', 'id_07', 'id_08', 'id_09',\n",
       "       'id_10', 'id_11', 'id_12', 'id_13', 'id_14', 'id_15', 'id_16',\n",
       "       'id_17', 'id_18', 'id_19', 'id_20', 'id_21', 'id_22', 'id_23',\n",
       "       'id_24', 'id_25', 'id_26', 'id_27', 'id_28', 'id_29', 'id_30',\n",
       "       'id_31', 'id_32', 'id_33', 'id_34', 'id_35', 'id_36', 'id_37',\n",
       "       'id_38', 'DeviceType', 'DeviceInfo'], dtype='<U14')"
      ]
     },
     "execution_count": 3,
     "metadata": {},
     "output_type": "execute_result"
    }
   ],
   "source": [
    "np.array(X_train.columns.tolist())"
   ]
  },
  {
   "cell_type": "markdown",
   "metadata": {},
   "source": [
    "#  Chuẩn hoá cột D\n",
    "\n",
    "Các cột D1..D15 biểu diễn một khoảng thời gian từ một thời điểm nào đó trong quá khứ tới ngày giao dịch. Chúng ta sẽ chuyển lại giá trị của cột D thành một thời điểm trong quá khứ bằng công thức `Di = TransactionDT / (24*60*60) - Di`. (Chi tiết trong bài báo cáo)"
   ]
  },
  {
   "cell_type": "markdown",
   "metadata": {},
   "source": [
    "### Biểu diễn giá trị cột D theo TransactioDT"
   ]
  },
  {
   "cell_type": "code",
   "execution_count": 4,
   "metadata": {
    "execution": {
     "iopub.execute_input": "2021-05-22T21:39:24.530865Z",
     "iopub.status.busy": "2021-05-22T21:39:24.530562Z",
     "iopub.status.idle": "2021-05-22T21:39:28.818336Z",
     "shell.execute_reply": "2021-05-22T21:39:28.817353Z",
     "shell.execute_reply.started": "2021-05-22T21:39:24.530824Z"
    }
   },
   "outputs": [
    {
     "data": {
      "image/png": "[encoded data removed]",
      "text/plain": [
       "<Figure size 1080x360 with 1 Axes>"
      ]
     },
     "metadata": {
      "needs_background": "light"
     },
     "output_type": "display_data"
    }
   ],
   "source": [
    "plt.figure(figsize=(15,5))\n",
    "plt.scatter(X_train.TransactionDT,X_train.D4)\n",
    "plt.title('Đặc trưng D4 khi chưa được chuẩn hoá')\n",
    "plt.xlabel('Thời gian (transactionDT)')\n",
    "plt.ylabel('D4 (values)')\n",
    "plt.show()"
   ]
  },
  {
   "cell_type": "markdown",
   "metadata": {},
   "source": [
    "### Chuẩn hoá tất cả cột D"
   ]
  },
  {
   "cell_type": "code",
   "execution_count": 5,
   "metadata": {
    "execution": {
     "iopub.execute_input": "2021-05-22T21:39:28.821271Z",
     "iopub.status.busy": "2021-05-22T21:39:28.821009Z",
     "iopub.status.idle": "2021-05-22T21:39:28.894477Z",
     "shell.execute_reply": "2021-05-22T21:39:28.893507Z",
     "shell.execute_reply.started": "2021-05-22T21:39:28.821230Z"
    }
   },
   "outputs": [],
   "source": [
    "for i in range(1,16):\n",
    "    if i in [1,2,3,5,9]: continue\n",
    "    X_train['D'+str(i)] =  X_train['D'+str(i)] - X_train.TransactionDT/np.float32(24*60*60)\n",
    "    X_test['D'+str(i)] = X_test['D'+str(i)] - X_test.TransactionDT/np.float32(24*60*60) "
   ]
  },
  {
   "cell_type": "markdown",
   "metadata": {},
   "source": [
    "### Biểu diễn giá trị cột D4 sau khi đã chuẩn hoá theo TransactionDT"
   ]
  },
  {
   "cell_type": "code",
   "execution_count": 6,
   "metadata": {
    "execution": {
     "iopub.execute_input": "2021-05-22T21:39:28.896615Z",
     "iopub.status.busy": "2021-05-22T21:39:28.896269Z",
     "iopub.status.idle": "2021-05-22T21:39:33.144437Z",
     "shell.execute_reply": "2021-05-22T21:39:33.143695Z",
     "shell.execute_reply.started": "2021-05-22T21:39:28.896551Z"
    }
   },
   "outputs": [
    {
     "data": {
      "image/png": "[encoded data removed]",
      "text/plain": [
       "<Figure size 1080x360 with 1 Axes>"
      ]
     },
     "metadata": {
      "needs_background": "light"
     },
     "output_type": "display_data"
    }
   ],
   "source": [
    "plt.figure(figsize=(15,5))\n",
    "plt.scatter(X_train.TransactionDT,X_train.D4)\n",
    "plt.title('Đặc trưng D4 đã chuẩn hoá')\n",
    "plt.xlabel('Thời gian (transactionDt)')\n",
    "plt.ylabel('D4n (values)')\n",
    "plt.show()"
   ]
  },
  {
   "cell_type": "markdown",
   "metadata": {},
   "source": [
    "# Tối ưu kích thước bộ dữ liệu\n",
    "\n",
    "Trong bài này, chúng tôi sẽ tối ưu kích thước bộ dữ liệu (chi tiết trong bài báo cáo)."
   ]
  },
  {
   "cell_type": "code",
   "execution_count": 7,
   "metadata": {
    "_kg_hide-input": true,
    "execution": {
     "iopub.execute_input": "2021-05-22T21:39:33.146172Z",
     "iopub.status.busy": "2021-05-22T21:39:33.145659Z",
     "iopub.status.idle": "2021-05-22T21:39:36.202053Z",
     "shell.execute_reply": "2021-05-22T21:39:36.201009Z",
     "shell.execute_reply.started": "2021-05-22T21:39:33.146118Z"
    }
   },
   "outputs": [
    {
     "name": "stdout",
     "output_type": "stream",
     "text": [
      "CPU times: user 3.06 s, sys: 24.6 ms, total: 3.09 s\n",
      "Wall time: 2.97 s\n"
     ]
    }
   ],
   "source": [
    "%%time\n",
    "for i,f in enumerate(X_train.columns):\n",
    "    # Chuyển các kiểu dữ liệu categories về số\n",
    "    if (np.str(X_train[f].dtype)=='category')|(X_train[f].dtype=='object'): \n",
    "        df_comb = pd.concat([X_train[f],X_test[f]],axis=0)\n",
    "        df_comb,_ = df_comb.factorize(sort=True)\n",
    "        if df_comb.max()>32000: print(f,'needs int32')\n",
    "        X_train[f] = df_comb[:len(X_train)].astype('int16')\n",
    "        X_test[f] = df_comb[len(X_train):].astype('int16')\n",
    "    # Chuẩn hoá GTNN về 0 và cho giá trị Nan thành -1\n",
    "    elif f not in ['TransactionAmt','TransactionDT']:\n",
    "        mn = np.min((X_train[f].min(),X_test[f].min()))\n",
    "        X_train[f] -= np.float32(mn)\n",
    "        X_test[f] -= np.float32(mn)\n",
    "        X_train[f].fillna(-1,inplace=True)\n",
    "        X_test[f].fillna(-1,inplace=True)"
   ]
  },
  {
   "cell_type": "markdown",
   "metadata": {},
   "source": [
    "# Tạo thêm các đặc trưng mới\n",
    "\n",
    "Các đặc trưng mới được tính ra từ các đặc trưng đã có sẽ đem lại thêm hiệu quả cho việc huấn luyện mô hình."
   ]
  },
  {
   "cell_type": "markdown",
   "metadata": {},
   "source": [
    "### Các hàm kết hợp giá trị để tạo ra đặc trưng mới \n",
    "\n",
    "Có tổng cộng 5 hàm kết hợp:\n",
    "\n",
    "- **encode_FE**: Hàm này sẽ tính tần suất của mỗi giá trị xuất hiện trong đặc trưng (feature) đầu vào và thêm vào dataframe trường **featurename_FE**\n",
    "\n",
    "- **encode_LE**: Hàm này sẽ chuyển kiểu dữ liệu categories về dạng số và tối ưu luôn kiểu của trường đó.\n",
    "\n",
    "- **encode_AG**: Hàm này sẽ nhóm các giá trị theo trường UID đầu vào, sau đó thực hiện các phép toán như tính mean, std, ...\n",
    "\n",
    "- **encode_CB**: Hàm này sẽ kết hợp các đặc trưng, đơn giản bằng cách thêm 1 đặc trương mới có tên **feaute1_feature2** với giá trị là **feaute1values_feauture2values**\n",
    "\n",
    "- **encode_AG2**: Hàm này tương tự như hàm **encode_AG** tuy nhiên nó được sử dụng riêng để nhóm rồi tính số lượng các giá trị phân biệt **unique** đặc trưng đầu vào khi được nhóm theo UID"
   ]
  },
  {
   "cell_type": "code",
   "execution_count": 8,
   "metadata": {
    "_kg_hide-input": true,
    "execution": {
     "iopub.execute_input": "2021-05-22T21:39:36.203440Z",
     "iopub.status.busy": "2021-05-22T21:39:36.203229Z",
     "iopub.status.idle": "2021-05-22T21:39:36.224003Z",
     "shell.execute_reply": "2021-05-22T21:39:36.222918Z",
     "shell.execute_reply.started": "2021-05-22T21:39:36.203409Z"
    }
   },
   "outputs": [],
   "source": [
    "# Thêm 1 trường c_FE là tần suất của giá trị đó (tính trên cả tập test và train)\n",
    "def encode_FE(df1, df2, cols):\n",
    "    for col in cols:\n",
    "        df = pd.concat([df1[col],df2[col]])\n",
    "        vc = df.value_counts(dropna=True, normalize=True).to_dict()\n",
    "        vc[-1] = -1\n",
    "        nm = col+'_FE'\n",
    "        df1[nm] = df1[col].map(vc)\n",
    "        df1[nm] = df1[nm].astype('float32')\n",
    "        df2[nm] = df2[col].map(vc)\n",
    "        df2[nm] = df2[nm].astype('float32')\n",
    "        print(nm,', ',end='')\n",
    "        \n",
    "\n",
    "# Chuyển các kiểu dữ liệu categories về dạng số\n",
    "def encode_LE(col,train=X_train,test=X_test,verbose=True):\n",
    "    df_comb = pd.concat([train[col],test[col]],axis=0)\n",
    "    df_comb,_ = df_comb.factorize(sort=True)\n",
    "    nm = col\n",
    "    if df_comb.max()>32000: \n",
    "        train[nm] = df_comb[:len(train)].astype('int32')\n",
    "        test[nm] = df_comb[len(train):].astype('int32')\n",
    "    else:\n",
    "        train[nm] = df_comb[:len(train)].astype('int16')\n",
    "        test[nm] = df_comb[len(train):].astype('int16')\n",
    "    del df_comb; x=gc.collect()\n",
    "    if verbose: print(nm,', ',end='')\n",
    "        \n",
    "# Phép GROUP AGGREGATION để tính MEAN và STD theo UID\n",
    "def encode_AG(main_columns, uids, aggregations=['mean'], train_df=X_train, test_df=X_test, \n",
    "              fillna=True, usena=False):\n",
    "    for main_column in main_columns:  \n",
    "        for col in uids:\n",
    "            for agg_type in aggregations:\n",
    "                new_col_name = main_column+'_'+col+'_'+agg_type\n",
    "                temp_df = pd.concat([train_df[[col, main_column]], test_df[[col,main_column]]])\n",
    "                if usena: temp_df.loc[temp_df[main_column]==-1,main_column] = np.nan\n",
    "                temp_df = temp_df.groupby([col])[main_column].agg([agg_type]).reset_index().rename(\n",
    "                                                        columns={agg_type: new_col_name})\n",
    "\n",
    "                temp_df.index = list(temp_df[col])\n",
    "                temp_df = temp_df[new_col_name].to_dict()   \n",
    "\n",
    "                train_df[new_col_name] = train_df[col].map(temp_df).astype('float32')\n",
    "                test_df[new_col_name]  = test_df[col].map(temp_df).astype('float32')\n",
    "                \n",
    "                if fillna:\n",
    "                    train_df[new_col_name].fillna(-1,inplace=True)\n",
    "                    test_df[new_col_name].fillna(-1,inplace=True)\n",
    "                \n",
    "                print(\"'\"+new_col_name+\"'\",', ',end='')\n",
    "                \n",
    "# Kết hợp giá trị các đặc trưng\n",
    "def encode_CB(col1,col2,df1=X_train,df2=X_test):\n",
    "    nm = col1+'_'+col2\n",
    "    df1[nm] = df1[col1].astype(str)+'_'+df1[col2].astype(str)\n",
    "    df2[nm] = df2[col1].astype(str)+'_'+df2[col2].astype(str) \n",
    "    encode_LE(nm,verbose=False)\n",
    "    print(nm,', ',end='')\n",
    "    \n",
    "# Phép GROUP AGGREGATION để tính NUNIQUE theo UID\n",
    "def encode_AG2(main_columns, uids, train_df=X_train, test_df=X_test):\n",
    "    for main_column in main_columns:  \n",
    "        for col in uids:\n",
    "            comb = pd.concat([train_df[[col]+[main_column]],test_df[[col]+[main_column]]],axis=0)\n",
    "            mp = comb.groupby(col)[main_column].agg(['nunique'])['nunique'].to_dict()\n",
    "            train_df[col+'_'+main_column+'_ct'] = train_df[col].map(mp).astype('float32')\n",
    "            test_df[col+'_'+main_column+'_ct'] = test_df[col].map(mp).astype('float32')\n",
    "            print(col+'_'+main_column+'_ct, ',end='')"
   ]
  },
  {
   "cell_type": "markdown",
   "metadata": {},
   "source": [
    "### Tạo ra các đặc trưng mới bằng các phép kết hợp và biến đổi các đặc trưng sẵn có\n",
    "Có tổng cộng 28 feature mới được thêm. Đây là các feature tốt khi thêm vào làm tăng điểm AUC của mô hình phân lớp. Được tham khảo từ  [notebook gốc](https://www.kaggle.com/cdeotte/xgb-fraud-with-magic-0-9600) của [Chris Deotte](https://www.kaggle.com/cdeotte)."
   ]
  },
  {
   "cell_type": "code",
   "execution_count": 9,
   "metadata": {
    "_kg_hide-input": false,
    "execution": {
     "iopub.execute_input": "2021-05-22T21:39:36.225988Z",
     "iopub.status.busy": "2021-05-22T21:39:36.225628Z",
     "iopub.status.idle": "2021-05-22T21:40:01.836918Z",
     "shell.execute_reply": "2021-05-22T21:40:01.835862Z",
     "shell.execute_reply.started": "2021-05-22T21:39:36.225924Z"
    }
   },
   "outputs": [
    {
     "name": "stdout",
     "output_type": "stream",
     "text": [
      "cents, \n",
      "addr1_FE , card1_FE , card2_FE , card3_FE , P_emaildomain_FE , card1_addr1 , card1_addr1_P_emaildomain , card1_addr1_FE , card1_addr1_P_emaildomain_FE , 'TransactionAmt_card1_mean' , 'TransactionAmt_card1_std' , 'TransactionAmt_card1_addr1_mean' , 'TransactionAmt_card1_addr1_std' , 'TransactionAmt_card1_addr1_P_emaildomain_mean' , 'TransactionAmt_card1_addr1_P_emaildomain_std' , 'D9_card1_mean' , 'D9_card1_std' , 'D9_card1_addr1_mean' , 'D9_card1_addr1_std' , 'D9_card1_addr1_P_emaildomain_mean' , 'D9_card1_addr1_P_emaildomain_std' , 'D11_card1_mean' , 'D11_card1_std' , 'D11_card1_addr1_mean' , 'D11_card1_addr1_std' , 'D11_card1_addr1_P_emaildomain_mean' , 'D11_card1_addr1_P_emaildomain_std' , CPU times: user 16.5 s, sys: 16 s, total: 32.5 s\n",
      "Wall time: 32.5 s\n"
     ]
    }
   ],
   "source": [
    "%%time\n",
    "# TRANSACTION AMT CENTS\n",
    "X_train['cents'] = (X_train['TransactionAmt'] - np.floor(X_train['TransactionAmt'])).astype('float32')\n",
    "X_test['cents'] = (X_test['TransactionAmt'] - np.floor(X_test['TransactionAmt'])).astype('float32')\n",
    "print('cents, ', end='\\n')\n",
    "# FREQUENCY ENCODE: ADDR1, CARD1, CARD2, CARD3, P_EMAILDOMAIN\n",
    "encode_FE(X_train,X_test,['addr1','card1','card2','card3','P_emaildomain'])\n",
    "# COMBINE COLUMNS CARD1+ADDR1, CARD1+ADDR1+P_EMAILDOMAIN\n",
    "encode_CB('card1','addr1')\n",
    "encode_CB('card1_addr1','P_emaildomain')\n",
    "# FREQUENCY ENOCDE\n",
    "encode_FE(X_train,X_test,['card1_addr1','card1_addr1_P_emaildomain'])\n",
    "# GROUP AGGREGATE\n",
    "encode_AG(['TransactionAmt','D9','D11'],['card1','card1_addr1','card1_addr1_P_emaildomain'],['mean','std'],usena=True)"
   ]
  },
  {
   "cell_type": "markdown",
   "metadata": {},
   "source": [
    "### Tạo đặc trưng index của tháng của TransactionDT\n",
    "\n",
    "Đặc trưng này giúp ích rất nhiều trong quá trình kiểm thử và kết hợp đặc trưng nhóm"
   ]
  },
  {
   "cell_type": "code",
   "execution_count": 10,
   "metadata": {
    "execution": {
     "iopub.execute_input": "2021-05-22T21:40:01.838789Z",
     "iopub.status.busy": "2021-05-22T21:40:01.838365Z",
     "iopub.status.idle": "2021-05-22T21:40:03.229816Z",
     "shell.execute_reply": "2021-05-22T21:40:03.228798Z",
     "shell.execute_reply.started": "2021-05-22T21:40:01.838724Z"
    }
   },
   "outputs": [],
   "source": [
    "import datetime\n",
    "START_DATE = datetime.datetime.strptime('2017-11-30', '%Y-%m-%d')\n",
    "X_train['DT_M'] = X_train['TransactionDT'].apply(lambda x: (START_DATE + datetime.timedelta(seconds = x)))\n",
    "X_train['DT_M'] = (X_train['DT_M'].dt.year-2017)*12 + X_train['DT_M'].dt.month \n",
    "\n",
    "X_test['DT_M'] = X_test['TransactionDT'].apply(lambda x: (START_DATE + datetime.timedelta(seconds = x)))\n",
    "X_test['DT_M'] = (X_test['DT_M'].dt.year-2017)*12 + X_test['DT_M'].dt.month"
   ]
  },
  {
   "cell_type": "markdown",
   "metadata": {},
   "source": [
    "### Tạo đặc trưng định danh người dùng\n",
    "\n",
    "Như đã phân tích trong báo cáo, trường dịnh danh người dùng đóng vai trò quan trọng trong việc cải thiện độ chính xác của bộ phân lớp."
   ]
  },
  {
   "cell_type": "code",
   "execution_count": 11,
   "metadata": {
    "execution": {
     "iopub.execute_input": "2021-05-22T21:40:03.231442Z",
     "iopub.status.busy": "2021-05-22T21:40:03.231028Z",
     "iopub.status.idle": "2021-05-22T21:40:04.637487Z",
     "shell.execute_reply": "2021-05-22T21:40:04.636798Z",
     "shell.execute_reply.started": "2021-05-22T21:40:03.231261Z"
    }
   },
   "outputs": [],
   "source": [
    "X_train['day'] = X_train.TransactionDT / (24*60*60)\n",
    "X_train['uid'] = X_train.card1_addr1.astype(str)+'_'+np.floor(X_train.day-X_train.D1).astype(str)\n",
    "\n",
    "X_test['day'] = X_test.TransactionDT / (24*60*60)\n",
    "X_test['uid'] = X_test.card1_addr1.astype(str)+'_'+np.floor(X_test.day-X_test.D1).astype(str)"
   ]
  },
  {
   "cell_type": "markdown",
   "metadata": {},
   "source": [
    "### Sử dụng đặc trưng UID mới tạo để tạo ra các đặc trưng nhóm, có tác dụng nhận diện khách hàng\n",
    "\n",
    "Có tổng cộng 47 đặc trưng mới được thêm. Các đặc trưng này được tham khảo và kiểm nghiệm từ  [notebook gốc](https://www.kaggle.com/cdeotte/xgb-fraud-with-magic-0-9600) của [Chris Deotte](https://www.kaggle.com/cdeotte)"
   ]
  },
  {
   "cell_type": "code",
   "execution_count": 12,
   "metadata": {
    "execution": {
     "iopub.execute_input": "2021-05-22T21:40:04.639392Z",
     "iopub.status.busy": "2021-05-22T21:40:04.639041Z",
     "iopub.status.idle": "2021-05-22T21:43:27.277972Z",
     "shell.execute_reply": "2021-05-22T21:43:27.277085Z",
     "shell.execute_reply.started": "2021-05-22T21:40:04.639327Z"
    }
   },
   "outputs": [
    {
     "name": "stdout",
     "output_type": "stream",
     "text": [
      "uid_FE , 'TransactionAmt_uid_mean' , 'TransactionAmt_uid_std' , 'D4_uid_mean' , 'D4_uid_std' , 'D9_uid_mean' , 'D9_uid_std' , 'D10_uid_mean' , 'D10_uid_std' , 'D15_uid_mean' , 'D15_uid_std' , 'C1_uid_mean' , 'C2_uid_mean' , 'C4_uid_mean' , 'C5_uid_mean' , 'C6_uid_mean' , 'C7_uid_mean' , 'C8_uid_mean' , 'C9_uid_mean' , 'C10_uid_mean' , 'C11_uid_mean' , 'C12_uid_mean' , 'C13_uid_mean' , 'C14_uid_mean' , 'M1_uid_mean' , 'M2_uid_mean' , 'M3_uid_mean' , 'M4_uid_mean' , 'M5_uid_mean' , 'M6_uid_mean' , 'M7_uid_mean' , 'M8_uid_mean' , 'M9_uid_mean' , uid_P_emaildomain_ct, uid_dist1_ct, uid_DT_M_ct, uid_id_02_ct, uid_cents_ct, 'C14_uid_std' , uid_C13_ct, uid_V314_ct, uid_V127_ct, uid_V136_ct, uid_V309_ct, uid_V307_ct, uid_V320_ct, outsider15\n",
      "CPU times: user 2min 46s, sys: 48.3 s, total: 3min 34s\n",
      "Wall time: 3min 34s\n"
     ]
    }
   ],
   "source": [
    "%%time\n",
    "# FREQUENCY ENCODE UID\n",
    "encode_FE(X_train,X_test,['uid'])\n",
    "# AGGREGATE \n",
    "encode_AG(['TransactionAmt','D4','D9','D10','D15'],['uid'],['mean','std'],fillna=True,usena=True)\n",
    "# AGGREGATE\n",
    "encode_AG(['C'+str(x) for x in range(1,15) if x!=3],['uid'],['mean'],X_train,X_test,fillna=True,usena=True)\n",
    "# AGGREGATE\n",
    "encode_AG(['M'+str(x) for x in range(1,10)],['uid'],['mean'],fillna=True,usena=True)\n",
    "# AGGREGATE\n",
    "encode_AG2(['P_emaildomain','dist1','DT_M','id_02','cents'], ['uid'], train_df=X_train, test_df=X_test)\n",
    "# AGGREGATE\n",
    "encode_AG(['C14'],['uid'],['std'],X_train,X_test,fillna=True,usena=True)\n",
    "# AGGREGATE \n",
    "encode_AG2(['C13','V314'], ['uid'], train_df=X_train, test_df=X_test)\n",
    "# AGGREATE \n",
    "encode_AG2(['V127','V136','V309','V307','V320'], ['uid'], train_df=X_train, test_df=X_test)\n",
    "# NEW FEATURE\n",
    "X_train['outsider15'] = (np.abs(X_train.D1-X_train.D15)>3).astype('int8')\n",
    "X_test['outsider15'] = (np.abs(X_test.D1-X_test.D15)>3).astype('int8')\n",
    "print('outsider15')"
   ]
  },
  {
   "cell_type": "markdown",
   "metadata": {},
   "source": [
    "# Loại bỏ các đặc trưng không tốt \n",
    "\n",
    "Bằng các kỹ thuật như Time Consistency Test, thống kê số lượng giá trị Nan, chúng tôi quyết đinh loại bỏ các đặc trưng sau khỏi tập dữ liệu"
   ]
  },
  {
   "cell_type": "code",
   "execution_count": 13,
   "metadata": {
    "execution": {
     "iopub.execute_input": "2021-05-22T21:43:27.280011Z",
     "iopub.status.busy": "2021-05-22T21:43:27.279659Z",
     "iopub.status.idle": "2021-05-22T21:43:27.287389Z",
     "shell.execute_reply": "2021-05-22T21:43:27.286468Z",
     "shell.execute_reply.started": "2021-05-22T21:43:27.279948Z"
    }
   },
   "outputs": [],
   "source": [
    "cols = list( X_train.columns )\n",
    "\n",
    "# Các trường chủ yếu là Nan\n",
    "for c in ['D6','D7','D8','D9','D12','D13','D14']:\n",
    "    cols.remove(c)\n",
    "\n",
    "# Không mang nhiều ý nghĩa trong việc phân loại giao dịch giả mạo\n",
    "cols.remove('TransactionDT')\n",
    "\n",
    "# Bỏ đi để tránh hiện tượng Overfitting\n",
    "for c in ['DT_M','day','uid']:\n",
    "    cols.remove(c)\n",
    "\n",
    "# Các đặc trưng không ổn định với thời gian\n",
    "for c in ['C3','M5','id_08','id_33']:\n",
    "    cols.remove(c)\n",
    "for c in ['card4','id_07','id_14','id_21','id_30','id_32','id_34']:\n",
    "    cols.remove(c)\n",
    "for c in ['id_'+str(x) for x in range(22,28)]:\n",
    "    cols.remove(c)"
   ]
  },
  {
   "cell_type": "code",
   "execution_count": 14,
   "metadata": {
    "_kg_hide-output": true,
    "execution": {
     "iopub.execute_input": "2021-05-22T21:43:27.288803Z",
     "iopub.status.busy": "2021-05-22T21:43:27.288548Z",
     "iopub.status.idle": "2021-05-22T21:43:27.309876Z",
     "shell.execute_reply": "2021-05-22T21:43:27.309005Z",
     "shell.execute_reply.started": "2021-05-22T21:43:27.288754Z"
    },
    "scrolled": true
   },
   "outputs": [
    {
     "name": "stdout",
     "output_type": "stream",
     "text": [
      "Ta sử dụng tổng cộng  263 đặc trưng.\n"
     ]
    },
    {
     "data": {
      "text/plain": [
       "array(['TransactionAmt', 'ProductCD', 'card1', 'card2', 'card3', 'card5',\n",
       "       'card6', 'addr1', 'addr2', 'dist1', 'dist2', 'P_emaildomain',\n",
       "       'R_emaildomain', 'C1', 'C2', 'C4', 'C5', 'C6', 'C7', 'C8', 'C9',\n",
       "       'C10', 'C11', 'C12', 'C13', 'C14', 'D1', 'D2', 'D3', 'D4', 'D5',\n",
       "       'D10', 'D11', 'D15', 'M1', 'M2', 'M3', 'M4', 'M6', 'M7', 'M8',\n",
       "       'M9', 'V1', 'V3', 'V4', 'V6', 'V8', 'V11', 'V13', 'V14', 'V17',\n",
       "       'V20', 'V23', 'V26', 'V27', 'V30', 'V36', 'V37', 'V40', 'V41',\n",
       "       'V44', 'V47', 'V48', 'V54', 'V56', 'V59', 'V62', 'V65', 'V67',\n",
       "       'V68', 'V70', 'V76', 'V78', 'V80', 'V82', 'V86', 'V88', 'V89',\n",
       "       'V91', 'V107', 'V108', 'V111', 'V115', 'V117', 'V120', 'V121',\n",
       "       'V123', 'V124', 'V127', 'V129', 'V130', 'V136', 'V138', 'V139',\n",
       "       'V142', 'V147', 'V156', 'V160', 'V162', 'V165', 'V166', 'V169',\n",
       "       'V171', 'V173', 'V175', 'V176', 'V178', 'V180', 'V182', 'V185',\n",
       "       'V187', 'V188', 'V198', 'V203', 'V205', 'V207', 'V209', 'V210',\n",
       "       'V215', 'V218', 'V220', 'V221', 'V223', 'V224', 'V226', 'V228',\n",
       "       'V229', 'V234', 'V235', 'V238', 'V240', 'V250', 'V252', 'V253',\n",
       "       'V257', 'V258', 'V260', 'V261', 'V264', 'V266', 'V267', 'V271',\n",
       "       'V274', 'V277', 'V281', 'V283', 'V284', 'V285', 'V286', 'V289',\n",
       "       'V291', 'V294', 'V296', 'V297', 'V301', 'V303', 'V305', 'V307',\n",
       "       'V309', 'V310', 'V314', 'V320', 'id_01', 'id_02', 'id_03', 'id_04',\n",
       "       'id_05', 'id_06', 'id_09', 'id_10', 'id_11', 'id_12', 'id_13',\n",
       "       'id_15', 'id_16', 'id_17', 'id_18', 'id_19', 'id_20', 'id_28',\n",
       "       'id_29', 'id_31', 'id_35', 'id_36', 'id_37', 'id_38', 'DeviceType',\n",
       "       'DeviceInfo', 'cents', 'addr1_FE', 'card1_FE', 'card2_FE',\n",
       "       'card3_FE', 'P_emaildomain_FE', 'card1_addr1',\n",
       "       'card1_addr1_P_emaildomain', 'card1_addr1_FE',\n",
       "       'card1_addr1_P_emaildomain_FE', 'TransactionAmt_card1_mean',\n",
       "       'TransactionAmt_card1_std', 'TransactionAmt_card1_addr1_mean',\n",
       "       'TransactionAmt_card1_addr1_std',\n",
       "       'TransactionAmt_card1_addr1_P_emaildomain_mean',\n",
       "       'TransactionAmt_card1_addr1_P_emaildomain_std', 'D9_card1_mean',\n",
       "       'D9_card1_std', 'D9_card1_addr1_mean', 'D9_card1_addr1_std',\n",
       "       'D9_card1_addr1_P_emaildomain_mean',\n",
       "       'D9_card1_addr1_P_emaildomain_std', 'D11_card1_mean',\n",
       "       'D11_card1_std', 'D11_card1_addr1_mean', 'D11_card1_addr1_std',\n",
       "       'D11_card1_addr1_P_emaildomain_mean',\n",
       "       'D11_card1_addr1_P_emaildomain_std', 'uid_FE',\n",
       "       'TransactionAmt_uid_mean', 'TransactionAmt_uid_std', 'D4_uid_mean',\n",
       "       'D4_uid_std', 'D9_uid_mean', 'D9_uid_std', 'D10_uid_mean',\n",
       "       'D10_uid_std', 'D15_uid_mean', 'D15_uid_std', 'C1_uid_mean',\n",
       "       'C2_uid_mean', 'C4_uid_mean', 'C5_uid_mean', 'C6_uid_mean',\n",
       "       'C7_uid_mean', 'C8_uid_mean', 'C9_uid_mean', 'C10_uid_mean',\n",
       "       'C11_uid_mean', 'C12_uid_mean', 'C13_uid_mean', 'C14_uid_mean',\n",
       "       'M1_uid_mean', 'M2_uid_mean', 'M3_uid_mean', 'M4_uid_mean',\n",
       "       'M5_uid_mean', 'M6_uid_mean', 'M7_uid_mean', 'M8_uid_mean',\n",
       "       'M9_uid_mean', 'uid_P_emaildomain_ct', 'uid_dist1_ct',\n",
       "       'uid_DT_M_ct', 'uid_id_02_ct', 'uid_cents_ct', 'C14_uid_std',\n",
       "       'uid_C13_ct', 'uid_V314_ct', 'uid_V127_ct', 'uid_V136_ct',\n",
       "       'uid_V309_ct', 'uid_V307_ct', 'uid_V320_ct', 'outsider15'],\n",
       "      dtype='<U45')"
      ]
     },
     "execution_count": 14,
     "metadata": {},
     "output_type": "execute_result"
    }
   ],
   "source": [
    "print('Ta sử dụng tổng cộng ',len(cols),'đặc trưng.')\n",
    "np.array(cols)"
   ]
  },
  {
   "cell_type": "markdown",
   "metadata": {},
   "source": [
    "# Huấn luyện mô hình và dự đoán kết quả tập test\n",
    "\n",
    "Ta sử dụng phương pháp kiểm thử K-Fold. Mỗi Fold bao gồm dữ liệu trong một tháng (tính theo TrasactionDT)"
   ]
  },
  {
   "cell_type": "code",
   "execution_count": 15,
   "metadata": {
    "execution": {
     "iopub.execute_input": "2021-05-22T21:43:27.311394Z",
     "iopub.status.busy": "2021-05-22T21:43:27.311160Z",
     "iopub.status.idle": "2021-05-22T21:43:28.047964Z",
     "shell.execute_reply": "2021-05-22T21:43:28.046556Z",
     "shell.execute_reply.started": "2021-05-22T21:43:27.311360Z"
    }
   },
   "outputs": [
    {
     "name": "stdout",
     "output_type": "stream",
     "text": [
      "XGBoost version: 0.90\n",
      "Fold 0 withholding month 12\n",
      " rows of train = 453219 rows of holdout = 137321\n",
      "[0]\tvalidation_0-auc:0.799536\n",
      "Will train until validation_0-auc hasn't improved in 200 rounds.\n",
      "[100]\tvalidation_0-auc:0.896542\n",
      "[200]\tvalidation_0-auc:0.914437\n",
      "[300]\tvalidation_0-auc:0.920774\n",
      "[400]\tvalidation_0-auc:0.922009\n",
      "[500]\tvalidation_0-auc:0.92297\n",
      "[600]\tvalidation_0-auc:0.923833\n",
      "[700]\tvalidation_0-auc:0.92417\n",
      "[800]\tvalidation_0-auc:0.924353\n",
      "[900]\tvalidation_0-auc:0.924556\n",
      "[1000]\tvalidation_0-auc:0.924961\n",
      "[1100]\tvalidation_0-auc:0.925185\n",
      "[1200]\tvalidation_0-auc:0.925421\n",
      "[1300]\tvalidation_0-auc:0.926033\n",
      "[1400]\tvalidation_0-auc:0.926394\n",
      "[1500]\tvalidation_0-auc:0.926651\n",
      "[1600]\tvalidation_0-auc:0.926994\n",
      "[1700]\tvalidation_0-auc:0.927453\n",
      "[1800]\tvalidation_0-auc:0.927663\n",
      "[1900]\tvalidation_0-auc:0.927942\n",
      "[2000]\tvalidation_0-auc:0.927929\n",
      "[2100]\tvalidation_0-auc:0.927988\n",
      "[2200]\tvalidation_0-auc:0.928253\n",
      "[2300]\tvalidation_0-auc:0.928373\n",
      "[2400]\tvalidation_0-auc:0.928445\n",
      "[2500]\tvalidation_0-auc:0.928859\n",
      "[2600]\tvalidation_0-auc:0.928979\n",
      "[2700]\tvalidation_0-auc:0.928975\n",
      "[2800]\tvalidation_0-auc:0.929122\n",
      "[2900]\tvalidation_0-auc:0.929261\n",
      "[3000]\tvalidation_0-auc:0.929222\n",
      "Stopping. Best iteration:\n",
      "[2895]\tvalidation_0-auc:0.929313\n",
      "\n",
      "Fold 1 withholding month 15\n",
      " rows of train = 488908 rows of holdout = 101632\n",
      "[0]\tvalidation_0-auc:0.82444\n",
      "Will train until validation_0-auc hasn't improved in 200 rounds.\n",
      "[100]\tvalidation_0-auc:0.923522\n",
      "[200]\tvalidation_0-auc:0.946936\n",
      "[300]\tvalidation_0-auc:0.957247\n",
      "[400]\tvalidation_0-auc:0.96024\n",
      "[500]\tvalidation_0-auc:0.960854\n",
      "[600]\tvalidation_0-auc:0.96122\n",
      "[700]\tvalidation_0-auc:0.96105\n",
      "[800]\tvalidation_0-auc:0.961016\n",
      "[900]\tvalidation_0-auc:0.960792\n",
      "Stopping. Best iteration:\n",
      "[746]\tvalidation_0-auc:0.96125\n",
      "\n",
      "Fold 2 withholding month 13\n",
      " rows of train = 497955 rows of holdout = 92585\n",
      "[0]\tvalidation_0-auc:0.827656\n",
      "Will train until validation_0-auc hasn't improved in 200 rounds.\n",
      "[100]\tvalidation_0-auc:0.921289\n",
      "[200]\tvalidation_0-auc:0.944432\n",
      "[300]\tvalidation_0-auc:0.955317\n",
      "[400]\tvalidation_0-auc:0.95933\n",
      "[500]\tvalidation_0-auc:0.960352\n",
      "[600]\tvalidation_0-auc:0.960615\n",
      "[700]\tvalidation_0-auc:0.960735\n",
      "[800]\tvalidation_0-auc:0.960662\n",
      "Stopping. Best iteration:\n",
      "[617]\tvalidation_0-auc:0.960777\n",
      "\n",
      "Fold 3 withholding month 17\n",
      " rows of train = 501214 rows of holdout = 89326\n",
      "[0]\tvalidation_0-auc:0.827802\n",
      "Will train until validation_0-auc hasn't improved in 200 rounds.\n",
      "[100]\tvalidation_0-auc:0.910276\n",
      "[200]\tvalidation_0-auc:0.937682\n",
      "[300]\tvalidation_0-auc:0.949659\n",
      "[400]\tvalidation_0-auc:0.953362\n",
      "[500]\tvalidation_0-auc:0.953875\n",
      "[600]\tvalidation_0-auc:0.95387\n",
      "[700]\tvalidation_0-auc:0.95327\n",
      "Stopping. Best iteration:\n",
      "[565]\tvalidation_0-auc:0.954099\n",
      "\n",
      "Fold 4 withholding month 14\n",
      " rows of train = 504519 rows of holdout = 86021\n",
      "[0]\tvalidation_0-auc:0.847882\n",
      "Will train until validation_0-auc hasn't improved in 200 rounds.\n",
      "[100]\tvalidation_0-auc:0.938464\n",
      "[200]\tvalidation_0-auc:0.957341\n",
      "[300]\tvalidation_0-auc:0.964582\n",
      "[400]\tvalidation_0-auc:0.966512\n",
      "[500]\tvalidation_0-auc:0.966981\n",
      "[600]\tvalidation_0-auc:0.967029\n",
      "[700]\tvalidation_0-auc:0.966836\n",
      "Stopping. Best iteration:\n",
      "[553]\tvalidation_0-auc:0.967109\n",
      "\n",
      "Fold 5 withholding month 16\n",
      " rows of train = 506885 rows of holdout = 83655\n",
      "[0]\tvalidation_0-auc:0.826793\n",
      "Will train until validation_0-auc hasn't improved in 200 rounds.\n",
      "[100]\tvalidation_0-auc:0.928035\n",
      "[200]\tvalidation_0-auc:0.954341\n",
      "[300]\tvalidation_0-auc:0.965972\n",
      "[400]\tvalidation_0-auc:0.969561\n",
      "[500]\tvalidation_0-auc:0.970445\n",
      "[600]\tvalidation_0-auc:0.970946\n",
      "[700]\tvalidation_0-auc:0.971063\n",
      "[800]\tvalidation_0-auc:0.970956\n",
      "Stopping. Best iteration:\n",
      "[672]\tvalidation_0-auc:0.971125\n",
      "\n",
      "####################\n",
      "XGB96 OOF CV= 0.9470834773796752\n"
     ]
    }
   ],
   "source": [
    "import xgboost as xgb\n",
    "print(\"XGBoost version:\", xgb.__version__)\n",
    "\n",
    "oof = np.zeros(len(X_train))\n",
    "preds = np.zeros(len(X_test))\n",
    "\n",
    "skf = GroupKFold(n_splits=6)\n",
    "for i, (idxT, idxV) in enumerate( skf.split(X_train, y_train, groups=X_train['DT_M']) ):\n",
    "    month = X_train.iloc[idxV]['DT_M'].iloc[0]\n",
    "    print('Fold',i,'withholding month',month)\n",
    "    print(' rows of train =',len(idxT),'rows of holdout =',len(idxV))\n",
    "    clf = xgb.XGBClassifier(\n",
    "        n_estimators=5000,\n",
    "        max_depth=12,\n",
    "        learning_rate=0.02,\n",
    "        subsample=0.8,\n",
    "        colsample_bytree=0.4,\n",
    "        missing=-1,\n",
    "        eval_metric='auc',\n",
    "        # USE CPU\n",
    "        #nthread=4,\n",
    "        #tree_method='hist'\n",
    "        # USE GPU\n",
    "        tree_method='gpu_hist' \n",
    "    )        \n",
    "    h = clf.fit(X_train[cols].iloc[idxT], y_train.iloc[idxT], \n",
    "            eval_set=[(X_train[cols].iloc[idxV],y_train.iloc[idxV])],\n",
    "            verbose=100, early_stopping_rounds=200)\n",
    "\n",
    "    oof[idxV] += clf.predict_proba(X_train[cols].iloc[idxV])[:,1]\n",
    "    preds += clf.predict_proba(X_test[cols])[:,1]/skf.n_splits\n",
    "    del h, clf\n",
    "    x=gc.collect()\n",
    "print('#'*20)\n",
    "print ('XGB96 OOF CV=',roc_auc_score(y_train,oof))"
   ]
  },
  {
   "cell_type": "code",
   "execution_count": 16,
   "metadata": {
    "execution": {
     "iopub.status.busy": "2021-05-22T21:43:28.049256Z",
     "iopub.status.idle": "2021-05-22T21:43:28.049586Z"
    }
   },
   "outputs": [
    {
     "data": {
      "image/png": "[encoded data removed]",
      "text/plain": [
       "<Figure size 432x288 with 1 Axes>"
      ]
     },
     "metadata": {
      "needs_background": "light"
     },
     "output_type": "display_data"
    }
   ],
   "source": [
    "plt.hist(oof,bins=100)\n",
    "plt.ylim((0,5000))\n",
    "plt.title('XGB OOF')\n",
    "plt.show()\n",
    "\n",
    "X_train['oof'] = oof\n",
    "X_train.reset_index(inplace=True)\n",
    "X_train[['TransactionID','oof']].to_csv('oof_xgb_96.csv')\n",
    "X_train.set_index('TransactionID',drop=True,inplace=True)"
   ]
  },
  {
   "cell_type": "markdown",
   "metadata": {},
   "source": [
    "# Tạo tập tin submission.csv"
   ]
  },
  {
   "cell_type": "code",
   "execution_count": 17,
   "metadata": {
    "execution": {
     "iopub.status.busy": "2021-05-22T21:43:28.050734Z",
     "iopub.status.idle": "2021-05-22T21:43:28.051435Z"
    }
   },
   "outputs": [
    {
     "data": {
      "image/png": "[encoded data removed]",
      "text/plain": [
       "<Figure size 432x288 with 1 Axes>"
      ]
     },
     "metadata": {
      "needs_background": "light"
     },
     "output_type": "display_data"
    }
   ],
   "source": [
    "sample_submission = pd.read_csv('../input/ieee-fraud-detection/sample_submission.csv')\n",
    "sample_submission.isFraud = preds\n",
    "sample_submission.to_csv('n8_xgb_submission.csv',index=False)\n",
    "\n",
    "plt.hist(sample_submission.isFraud,bins=100)\n",
    "plt.ylim((0,5000))\n",
    "plt.title('XGB_n8 Submission')\n",
    "plt.show()"
   ]
  }
 ],
 "metadata": {
  "kernelspec": {
   "display_name": "Python 3",
   "language": "python",
   "name": "python3"
  },
  "language_info": {
   "codemirror_mode": {
    "name": "ipython",
    "version": 3
   },
   "file_extension": ".py",
   "mimetype": "text/x-python",
   "name": "python",
   "nbconvert_exporter": "python",
   "pygments_lexer": "ipython3",
   "version": "3.6.6"
  }
 },
 "nbformat": 4,
 "nbformat_minor": 4
}
